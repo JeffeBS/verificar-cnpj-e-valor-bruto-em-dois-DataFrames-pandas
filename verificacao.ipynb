{
  "metadata": {
    "language_info": {
      "codemirror_mode": {
        "name": "python",
        "version": 3
      },
      "file_extension": ".py",
      "mimetype": "text/x-python",
      "name": "python",
      "nbconvert_exporter": "python",
      "pygments_lexer": "ipython3",
      "version": "3.8"
    },
    "kernelspec": {
      "name": "python",
      "display_name": "Python (Pyodide)",
      "language": "python"
    }
  },
  "nbformat_minor": 4,
  "nbformat": 4,
  "cells": [
    {
      "cell_type": "code",
      "source": "import pandas as pd\n#validar se um cnpj de um DataFrame está presente em outro, e se os valores brutos, ou a soma deles coincidem\n\n#criei um data frame com alguns cnpj's e valores apenas para testes\ncnpj_f={\"CNPJ\":[\"12.528.708/0001-07\",\"06.128.563/0001-10\",\"71.208.516/0001-74\",\"17.167.396/0001-69\",\"02.217.319/0001-07\",\"10.338.320/0001-00\",\"04.128.563/0001-10\",\n             \"61.079.117/0001-05\",\"11.721.921/0001-60\",\"16.811.931/0001-00\",\"04.128.563/0001-10\",\"21.233.516/0001-22\",\"21.208.516/0001-64\",\"21.208.516/0001-64\"],\n      \"VALOR BRUTO\":[100,45,33,76,233,150,79,82,91,12,19,100,5,5]}\ndf_fiscal=pd.DataFrame(data=cnpj_f)\n",
      "metadata": {
        "trusted": true
      },
      "execution_count": null,
      "outputs": []
    },
    {
      "cell_type": "code",
      "source": "#outro DataFrame criado para fazer a verificação\ncnpj_p={\"CNPJ_P\":[\"12.528.708/0001-07\",\"04.128.563/0001-10\",\"71.208.516/0001-74\",\"17.167.396/0001-69\",\"02.217.319/0001-07\",\"10.338.320/0001-00\",\n             \"61.079.117/0001-05\",\"11.721.921/0001-60\",\"16.811.931/0001-00\",\"04.128.563/0001-10\",\"21.208.516/0001-64\",\"21.233.516/0001-22\",\"21.233.516/0001-22\"],\n       \"VALOR BRUTO_P\":[0,45,33,76,233,150,82,91,12,19,10,50,50]}\ndf_prefeitura=pd.DataFrame(data=cnpj_p)\n",
      "metadata": {
        "trusted": true
      },
      "execution_count": null,
      "outputs": []
    },
    {
      "cell_type": "code",
      "source": "#inserindo uma coluna vazia para fazer a verificação do status\ndf_fiscal.insert(loc=2, column='STATUS', value='', allow_duplicates=True)\ndf_fiscal",
      "metadata": {
        "trusted": true
      },
      "execution_count": null,
      "outputs": [
        {
          "execution_count": 3,
          "output_type": "execute_result",
          "data": {
            "text/plain": "                  CNPJ  VALOR BRUTO STATUS\n0   12.528.708/0001-07          100       \n1   06.128.563/0001-10           45       \n2   71.208.516/0001-74           33       \n3   17.167.396/0001-69           76       \n4   02.217.319/0001-07          233       \n5   10.338.320/0001-00          150       \n6   04.128.563/0001-10           79       \n7   61.079.117/0001-05           82       \n8   11.721.921/0001-60           91       \n9   16.811.931/0001-00           12       \n10  04.128.563/0001-10           19       \n11  21.233.516/0001-22          100       \n12  21.208.516/0001-64            5       \n13  21.208.516/0001-64            5       ",
            "text/html": "<div>\n<style scoped>\n    .dataframe tbody tr th:only-of-type {\n        vertical-align: middle;\n    }\n\n    .dataframe tbody tr th {\n        vertical-align: top;\n    }\n\n    .dataframe thead th {\n        text-align: right;\n    }\n</style>\n<table border=\"1\" class=\"dataframe\">\n  <thead>\n    <tr style=\"text-align: right;\">\n      <th></th>\n      <th>CNPJ</th>\n      <th>VALOR BRUTO</th>\n      <th>STATUS</th>\n    </tr>\n  </thead>\n  <tbody>\n    <tr>\n      <th>0</th>\n      <td>12.528.708/0001-07</td>\n      <td>100</td>\n      <td></td>\n    </tr>\n    <tr>\n      <th>1</th>\n      <td>06.128.563/0001-10</td>\n      <td>45</td>\n      <td></td>\n    </tr>\n    <tr>\n      <th>2</th>\n      <td>71.208.516/0001-74</td>\n      <td>33</td>\n      <td></td>\n    </tr>\n    <tr>\n      <th>3</th>\n      <td>17.167.396/0001-69</td>\n      <td>76</td>\n      <td></td>\n    </tr>\n    <tr>\n      <th>4</th>\n      <td>02.217.319/0001-07</td>\n      <td>233</td>\n      <td></td>\n    </tr>\n    <tr>\n      <th>5</th>\n      <td>10.338.320/0001-00</td>\n      <td>150</td>\n      <td></td>\n    </tr>\n    <tr>\n      <th>6</th>\n      <td>04.128.563/0001-10</td>\n      <td>79</td>\n      <td></td>\n    </tr>\n    <tr>\n      <th>7</th>\n      <td>61.079.117/0001-05</td>\n      <td>82</td>\n      <td></td>\n    </tr>\n    <tr>\n      <th>8</th>\n      <td>11.721.921/0001-60</td>\n      <td>91</td>\n      <td></td>\n    </tr>\n    <tr>\n      <th>9</th>\n      <td>16.811.931/0001-00</td>\n      <td>12</td>\n      <td></td>\n    </tr>\n    <tr>\n      <th>10</th>\n      <td>04.128.563/0001-10</td>\n      <td>19</td>\n      <td></td>\n    </tr>\n    <tr>\n      <th>11</th>\n      <td>21.233.516/0001-22</td>\n      <td>100</td>\n      <td></td>\n    </tr>\n    <tr>\n      <th>12</th>\n      <td>21.208.516/0001-64</td>\n      <td>5</td>\n      <td></td>\n    </tr>\n    <tr>\n      <th>13</th>\n      <td>21.208.516/0001-64</td>\n      <td>5</td>\n      <td></td>\n    </tr>\n  </tbody>\n</table>\n</div>"
          },
          "metadata": {}
        }
      ]
    },
    {
      "cell_type": "code",
      "source": "#inserindo uma coluna vazia para fazer a verificação do status\ndf_prefeitura.insert(loc=2, column='STATUS', value='', allow_duplicates=True)\ndf_prefeitura",
      "metadata": {
        "trusted": true
      },
      "execution_count": null,
      "outputs": [
        {
          "execution_count": 4,
          "output_type": "execute_result",
          "data": {
            "text/plain": "                CNPJ_P  VALOR BRUTO_P STATUS\n0   12.528.708/0001-07              0       \n1   04.128.563/0001-10             45       \n2   71.208.516/0001-74             33       \n3   17.167.396/0001-69             76       \n4   02.217.319/0001-07            233       \n5   10.338.320/0001-00            150       \n6   61.079.117/0001-05             82       \n7   11.721.921/0001-60             91       \n8   16.811.931/0001-00             12       \n9   04.128.563/0001-10             19       \n10  21.208.516/0001-64             10       \n11  21.233.516/0001-22             50       \n12  21.233.516/0001-22             50       ",
            "text/html": "<div>\n<style scoped>\n    .dataframe tbody tr th:only-of-type {\n        vertical-align: middle;\n    }\n\n    .dataframe tbody tr th {\n        vertical-align: top;\n    }\n\n    .dataframe thead th {\n        text-align: right;\n    }\n</style>\n<table border=\"1\" class=\"dataframe\">\n  <thead>\n    <tr style=\"text-align: right;\">\n      <th></th>\n      <th>CNPJ_P</th>\n      <th>VALOR BRUTO_P</th>\n      <th>STATUS</th>\n    </tr>\n  </thead>\n  <tbody>\n    <tr>\n      <th>0</th>\n      <td>12.528.708/0001-07</td>\n      <td>0</td>\n      <td></td>\n    </tr>\n    <tr>\n      <th>1</th>\n      <td>04.128.563/0001-10</td>\n      <td>45</td>\n      <td></td>\n    </tr>\n    <tr>\n      <th>2</th>\n      <td>71.208.516/0001-74</td>\n      <td>33</td>\n      <td></td>\n    </tr>\n    <tr>\n      <th>3</th>\n      <td>17.167.396/0001-69</td>\n      <td>76</td>\n      <td></td>\n    </tr>\n    <tr>\n      <th>4</th>\n      <td>02.217.319/0001-07</td>\n      <td>233</td>\n      <td></td>\n    </tr>\n    <tr>\n      <th>5</th>\n      <td>10.338.320/0001-00</td>\n      <td>150</td>\n      <td></td>\n    </tr>\n    <tr>\n      <th>6</th>\n      <td>61.079.117/0001-05</td>\n      <td>82</td>\n      <td></td>\n    </tr>\n    <tr>\n      <th>7</th>\n      <td>11.721.921/0001-60</td>\n      <td>91</td>\n      <td></td>\n    </tr>\n    <tr>\n      <th>8</th>\n      <td>16.811.931/0001-00</td>\n      <td>12</td>\n      <td></td>\n    </tr>\n    <tr>\n      <th>9</th>\n      <td>04.128.563/0001-10</td>\n      <td>19</td>\n      <td></td>\n    </tr>\n    <tr>\n      <th>10</th>\n      <td>21.208.516/0001-64</td>\n      <td>10</td>\n      <td></td>\n    </tr>\n    <tr>\n      <th>11</th>\n      <td>21.233.516/0001-22</td>\n      <td>50</td>\n      <td></td>\n    </tr>\n    <tr>\n      <th>12</th>\n      <td>21.233.516/0001-22</td>\n      <td>50</td>\n      <td></td>\n    </tr>\n  </tbody>\n</table>\n</div>"
          },
          "metadata": {}
        }
      ]
    },
    {
      "cell_type": "code",
      "source": "#para cada linha na coluna dos CNPJ's \nfor linha in df_prefeitura['CNPJ_P']:\n    \n    #pegar o index do cnpj que está guardado na variavel 'linha', e transforma em uma lista\n    #se tiver mais de um cnpj igual no DataFrame, colocará na lista\n    index_p = df_prefeitura.index[(df_prefeitura['CNPJ_P']==linha)].tolist()\n    \n    #pegar o valor bruto que está na linha do cnpj que está na variavel linha, através do index que foi guardado anteriormente\n    valor_p = df_prefeitura['VALOR BRUTO_P'][index_p].tolist()\n    \n    #se tiver mais de um cnpj igual no DataFrame, somar os valores brutos\n    listSum = sum(valor_p)\n   \n    #para cada cnpj do outro DataFrame\n    for i in df_fiscal['CNPJ']:\n    \n        #se os cnpj's forem iguais  \n        if i==linha:\n            \n            #pega o index do cnpj que está na variavel 'i' e guarda em uma lista\n            index_f = df_fiscal.index[(df_fiscal['CNPJ']==i)].tolist()\n            \n            #pegar o valor bruto dessa linha \n            valor_f = df_fiscal['VALOR BRUTO'][index_f].tolist()\n            \n            #somar os valores brutos caso tenha mais de um cnpj igual\n            listSum2 = sum(valor_f)\n            \n            #se a soma dos valores brutos dessas linhas forem iguais, então é inserido na coluna STATUS 'nf ok', onde estes cnpj's estão\n            if listSum==listSum2:\n                df_fiscal['STATUS'][index_f]='nf ok'\n                df_prefeitura['STATUS'][index_p]='nf ok'\n                \n                \n        \n    ",
      "metadata": {
        "trusted": true
      },
      "execution_count": 6,
      "outputs": [
        {
          "name": "stderr",
          "text": "<ipython-input-6-5be3a9340263>:31: SettingWithCopyWarning: \nA value is trying to be set on a copy of a slice from a DataFrame\n\nSee the caveats in the documentation: https://pandas.pydata.org/pandas-docs/stable/user_guide/indexing.html#returning-a-view-versus-a-copy\n  df_fiscal['STATUS'][index_f]='nf ok'\n<ipython-input-6-5be3a9340263>:32: SettingWithCopyWarning: \nA value is trying to be set on a copy of a slice from a DataFrame\n\nSee the caveats in the documentation: https://pandas.pydata.org/pandas-docs/stable/user_guide/indexing.html#returning-a-view-versus-a-copy\n  df_prefeitura['STATUS'][index_p]='nf ok'\n<ipython-input-6-5be3a9340263>:31: SettingWithCopyWarning: \nA value is trying to be set on a copy of a slice from a DataFrame\n\nSee the caveats in the documentation: https://pandas.pydata.org/pandas-docs/stable/user_guide/indexing.html#returning-a-view-versus-a-copy\n  df_fiscal['STATUS'][index_f]='nf ok'\n<ipython-input-6-5be3a9340263>:32: SettingWithCopyWarning: \nA value is trying to be set on a copy of a slice from a DataFrame\n\nSee the caveats in the documentation: https://pandas.pydata.org/pandas-docs/stable/user_guide/indexing.html#returning-a-view-versus-a-copy\n  df_prefeitura['STATUS'][index_p]='nf ok'\n<ipython-input-6-5be3a9340263>:31: SettingWithCopyWarning: \nA value is trying to be set on a copy of a slice from a DataFrame\n\nSee the caveats in the documentation: https://pandas.pydata.org/pandas-docs/stable/user_guide/indexing.html#returning-a-view-versus-a-copy\n  df_fiscal['STATUS'][index_f]='nf ok'\n<ipython-input-6-5be3a9340263>:32: SettingWithCopyWarning: \nA value is trying to be set on a copy of a slice from a DataFrame\n\nSee the caveats in the documentation: https://pandas.pydata.org/pandas-docs/stable/user_guide/indexing.html#returning-a-view-versus-a-copy\n  df_prefeitura['STATUS'][index_p]='nf ok'\n<ipython-input-6-5be3a9340263>:31: SettingWithCopyWarning: \nA value is trying to be set on a copy of a slice from a DataFrame\n\nSee the caveats in the documentation: https://pandas.pydata.org/pandas-docs/stable/user_guide/indexing.html#returning-a-view-versus-a-copy\n  df_fiscal['STATUS'][index_f]='nf ok'\n<ipython-input-6-5be3a9340263>:32: SettingWithCopyWarning: \nA value is trying to be set on a copy of a slice from a DataFrame\n\nSee the caveats in the documentation: https://pandas.pydata.org/pandas-docs/stable/user_guide/indexing.html#returning-a-view-versus-a-copy\n  df_prefeitura['STATUS'][index_p]='nf ok'\n<ipython-input-6-5be3a9340263>:31: SettingWithCopyWarning: \nA value is trying to be set on a copy of a slice from a DataFrame\n\nSee the caveats in the documentation: https://pandas.pydata.org/pandas-docs/stable/user_guide/indexing.html#returning-a-view-versus-a-copy\n  df_fiscal['STATUS'][index_f]='nf ok'\n<ipython-input-6-5be3a9340263>:32: SettingWithCopyWarning: \nA value is trying to be set on a copy of a slice from a DataFrame\n\nSee the caveats in the documentation: https://pandas.pydata.org/pandas-docs/stable/user_guide/indexing.html#returning-a-view-versus-a-copy\n  df_prefeitura['STATUS'][index_p]='nf ok'\n<ipython-input-6-5be3a9340263>:31: SettingWithCopyWarning: \nA value is trying to be set on a copy of a slice from a DataFrame\n\nSee the caveats in the documentation: https://pandas.pydata.org/pandas-docs/stable/user_guide/indexing.html#returning-a-view-versus-a-copy\n  df_fiscal['STATUS'][index_f]='nf ok'\n<ipython-input-6-5be3a9340263>:32: SettingWithCopyWarning: \nA value is trying to be set on a copy of a slice from a DataFrame\n\nSee the caveats in the documentation: https://pandas.pydata.org/pandas-docs/stable/user_guide/indexing.html#returning-a-view-versus-a-copy\n  df_prefeitura['STATUS'][index_p]='nf ok'\n<ipython-input-6-5be3a9340263>:31: SettingWithCopyWarning: \nA value is trying to be set on a copy of a slice from a DataFrame\n\nSee the caveats in the documentation: https://pandas.pydata.org/pandas-docs/stable/user_guide/indexing.html#returning-a-view-versus-a-copy\n  df_fiscal['STATUS'][index_f]='nf ok'\n<ipython-input-6-5be3a9340263>:32: SettingWithCopyWarning: \nA value is trying to be set on a copy of a slice from a DataFrame\n\nSee the caveats in the documentation: https://pandas.pydata.org/pandas-docs/stable/user_guide/indexing.html#returning-a-view-versus-a-copy\n  df_prefeitura['STATUS'][index_p]='nf ok'\n<ipython-input-6-5be3a9340263>:31: SettingWithCopyWarning: \nA value is trying to be set on a copy of a slice from a DataFrame\n\nSee the caveats in the documentation: https://pandas.pydata.org/pandas-docs/stable/user_guide/indexing.html#returning-a-view-versus-a-copy\n  df_fiscal['STATUS'][index_f]='nf ok'\n<ipython-input-6-5be3a9340263>:32: SettingWithCopyWarning: \nA value is trying to be set on a copy of a slice from a DataFrame\n\nSee the caveats in the documentation: https://pandas.pydata.org/pandas-docs/stable/user_guide/indexing.html#returning-a-view-versus-a-copy\n  df_prefeitura['STATUS'][index_p]='nf ok'\n<ipython-input-6-5be3a9340263>:31: SettingWithCopyWarning: \nA value is trying to be set on a copy of a slice from a DataFrame\n\nSee the caveats in the documentation: https://pandas.pydata.org/pandas-docs/stable/user_guide/indexing.html#returning-a-view-versus-a-copy\n  df_fiscal['STATUS'][index_f]='nf ok'\n<ipython-input-6-5be3a9340263>:32: SettingWithCopyWarning: \nA value is trying to be set on a copy of a slice from a DataFrame\n\nSee the caveats in the documentation: https://pandas.pydata.org/pandas-docs/stable/user_guide/indexing.html#returning-a-view-versus-a-copy\n  df_prefeitura['STATUS'][index_p]='nf ok'\n<ipython-input-6-5be3a9340263>:31: SettingWithCopyWarning: \nA value is trying to be set on a copy of a slice from a DataFrame\n\nSee the caveats in the documentation: https://pandas.pydata.org/pandas-docs/stable/user_guide/indexing.html#returning-a-view-versus-a-copy\n  df_fiscal['STATUS'][index_f]='nf ok'\n<ipython-input-6-5be3a9340263>:32: SettingWithCopyWarning: \nA value is trying to be set on a copy of a slice from a DataFrame\n\nSee the caveats in the documentation: https://pandas.pydata.org/pandas-docs/stable/user_guide/indexing.html#returning-a-view-versus-a-copy\n  df_prefeitura['STATUS'][index_p]='nf ok'\n<ipython-input-6-5be3a9340263>:31: SettingWithCopyWarning: \nA value is trying to be set on a copy of a slice from a DataFrame\n\nSee the caveats in the documentation: https://pandas.pydata.org/pandas-docs/stable/user_guide/indexing.html#returning-a-view-versus-a-copy\n  df_fiscal['STATUS'][index_f]='nf ok'\n<ipython-input-6-5be3a9340263>:32: SettingWithCopyWarning: \nA value is trying to be set on a copy of a slice from a DataFrame\n\nSee the caveats in the documentation: https://pandas.pydata.org/pandas-docs/stable/user_guide/indexing.html#returning-a-view-versus-a-copy\n  df_prefeitura['STATUS'][index_p]='nf ok'\n",
          "output_type": "stream"
        }
      ]
    },
    {
      "cell_type": "code",
      "source": "df_fiscal",
      "metadata": {
        "trusted": true
      },
      "execution_count": 7,
      "outputs": [
        {
          "execution_count": 7,
          "output_type": "execute_result",
          "data": {
            "text/plain": "                  CNPJ  VALOR BRUTO STATUS\n0   12.528.708/0001-07          100       \n1   06.128.563/0001-10           45       \n2   71.208.516/0001-74           33  nf ok\n3   17.167.396/0001-69           76  nf ok\n4   02.217.319/0001-07          233  nf ok\n5   10.338.320/0001-00          150  nf ok\n6   04.128.563/0001-10           79       \n7   61.079.117/0001-05           82  nf ok\n8   11.721.921/0001-60           91  nf ok\n9   16.811.931/0001-00           12  nf ok\n10  04.128.563/0001-10           19       \n11  21.233.516/0001-22          100  nf ok\n12  21.208.516/0001-64            5  nf ok\n13  21.208.516/0001-64            5  nf ok",
            "text/html": "<div>\n<style scoped>\n    .dataframe tbody tr th:only-of-type {\n        vertical-align: middle;\n    }\n\n    .dataframe tbody tr th {\n        vertical-align: top;\n    }\n\n    .dataframe thead th {\n        text-align: right;\n    }\n</style>\n<table border=\"1\" class=\"dataframe\">\n  <thead>\n    <tr style=\"text-align: right;\">\n      <th></th>\n      <th>CNPJ</th>\n      <th>VALOR BRUTO</th>\n      <th>STATUS</th>\n    </tr>\n  </thead>\n  <tbody>\n    <tr>\n      <th>0</th>\n      <td>12.528.708/0001-07</td>\n      <td>100</td>\n      <td></td>\n    </tr>\n    <tr>\n      <th>1</th>\n      <td>06.128.563/0001-10</td>\n      <td>45</td>\n      <td></td>\n    </tr>\n    <tr>\n      <th>2</th>\n      <td>71.208.516/0001-74</td>\n      <td>33</td>\n      <td>nf ok</td>\n    </tr>\n    <tr>\n      <th>3</th>\n      <td>17.167.396/0001-69</td>\n      <td>76</td>\n      <td>nf ok</td>\n    </tr>\n    <tr>\n      <th>4</th>\n      <td>02.217.319/0001-07</td>\n      <td>233</td>\n      <td>nf ok</td>\n    </tr>\n    <tr>\n      <th>5</th>\n      <td>10.338.320/0001-00</td>\n      <td>150</td>\n      <td>nf ok</td>\n    </tr>\n    <tr>\n      <th>6</th>\n      <td>04.128.563/0001-10</td>\n      <td>79</td>\n      <td></td>\n    </tr>\n    <tr>\n      <th>7</th>\n      <td>61.079.117/0001-05</td>\n      <td>82</td>\n      <td>nf ok</td>\n    </tr>\n    <tr>\n      <th>8</th>\n      <td>11.721.921/0001-60</td>\n      <td>91</td>\n      <td>nf ok</td>\n    </tr>\n    <tr>\n      <th>9</th>\n      <td>16.811.931/0001-00</td>\n      <td>12</td>\n      <td>nf ok</td>\n    </tr>\n    <tr>\n      <th>10</th>\n      <td>04.128.563/0001-10</td>\n      <td>19</td>\n      <td></td>\n    </tr>\n    <tr>\n      <th>11</th>\n      <td>21.233.516/0001-22</td>\n      <td>100</td>\n      <td>nf ok</td>\n    </tr>\n    <tr>\n      <th>12</th>\n      <td>21.208.516/0001-64</td>\n      <td>5</td>\n      <td>nf ok</td>\n    </tr>\n    <tr>\n      <th>13</th>\n      <td>21.208.516/0001-64</td>\n      <td>5</td>\n      <td>nf ok</td>\n    </tr>\n  </tbody>\n</table>\n</div>"
          },
          "metadata": {}
        }
      ]
    },
    {
      "cell_type": "code",
      "source": "df_prefeitura",
      "metadata": {
        "trusted": true
      },
      "execution_count": 8,
      "outputs": [
        {
          "execution_count": 8,
          "output_type": "execute_result",
          "data": {
            "text/plain": "                CNPJ_P  VALOR BRUTO_P STATUS\n0   12.528.708/0001-07              0       \n1   04.128.563/0001-10             45       \n2   71.208.516/0001-74             33  nf ok\n3   17.167.396/0001-69             76  nf ok\n4   02.217.319/0001-07            233  nf ok\n5   10.338.320/0001-00            150  nf ok\n6   61.079.117/0001-05             82  nf ok\n7   11.721.921/0001-60             91  nf ok\n8   16.811.931/0001-00             12  nf ok\n9   04.128.563/0001-10             19       \n10  21.208.516/0001-64             10  nf ok\n11  21.233.516/0001-22             50  nf ok\n12  21.233.516/0001-22             50  nf ok",
            "text/html": "<div>\n<style scoped>\n    .dataframe tbody tr th:only-of-type {\n        vertical-align: middle;\n    }\n\n    .dataframe tbody tr th {\n        vertical-align: top;\n    }\n\n    .dataframe thead th {\n        text-align: right;\n    }\n</style>\n<table border=\"1\" class=\"dataframe\">\n  <thead>\n    <tr style=\"text-align: right;\">\n      <th></th>\n      <th>CNPJ_P</th>\n      <th>VALOR BRUTO_P</th>\n      <th>STATUS</th>\n    </tr>\n  </thead>\n  <tbody>\n    <tr>\n      <th>0</th>\n      <td>12.528.708/0001-07</td>\n      <td>0</td>\n      <td></td>\n    </tr>\n    <tr>\n      <th>1</th>\n      <td>04.128.563/0001-10</td>\n      <td>45</td>\n      <td></td>\n    </tr>\n    <tr>\n      <th>2</th>\n      <td>71.208.516/0001-74</td>\n      <td>33</td>\n      <td>nf ok</td>\n    </tr>\n    <tr>\n      <th>3</th>\n      <td>17.167.396/0001-69</td>\n      <td>76</td>\n      <td>nf ok</td>\n    </tr>\n    <tr>\n      <th>4</th>\n      <td>02.217.319/0001-07</td>\n      <td>233</td>\n      <td>nf ok</td>\n    </tr>\n    <tr>\n      <th>5</th>\n      <td>10.338.320/0001-00</td>\n      <td>150</td>\n      <td>nf ok</td>\n    </tr>\n    <tr>\n      <th>6</th>\n      <td>61.079.117/0001-05</td>\n      <td>82</td>\n      <td>nf ok</td>\n    </tr>\n    <tr>\n      <th>7</th>\n      <td>11.721.921/0001-60</td>\n      <td>91</td>\n      <td>nf ok</td>\n    </tr>\n    <tr>\n      <th>8</th>\n      <td>16.811.931/0001-00</td>\n      <td>12</td>\n      <td>nf ok</td>\n    </tr>\n    <tr>\n      <th>9</th>\n      <td>04.128.563/0001-10</td>\n      <td>19</td>\n      <td></td>\n    </tr>\n    <tr>\n      <th>10</th>\n      <td>21.208.516/0001-64</td>\n      <td>10</td>\n      <td>nf ok</td>\n    </tr>\n    <tr>\n      <th>11</th>\n      <td>21.233.516/0001-22</td>\n      <td>50</td>\n      <td>nf ok</td>\n    </tr>\n    <tr>\n      <th>12</th>\n      <td>21.233.516/0001-22</td>\n      <td>50</td>\n      <td>nf ok</td>\n    </tr>\n  </tbody>\n</table>\n</div>"
          },
          "metadata": {}
        }
      ]
    },
    {
      "cell_type": "code",
      "source": "",
      "metadata": {},
      "execution_count": null,
      "outputs": []
    }
  ]
}